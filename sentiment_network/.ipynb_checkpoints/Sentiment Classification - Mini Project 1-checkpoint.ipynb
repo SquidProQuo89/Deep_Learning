{
 "cells": [
  {
   "cell_type": "markdown",
   "metadata": {},
   "source": [
    "# Sentiment Classification & How To \"Frame Problems\" for a Neural Network\n",
    "\n",
    "by Andrew Trask\n",
    "\n",
    "- **Twitter**: @iamtrask\n",
    "- **Blog**: http://iamtrask.github.io"
   ]
  },
  {
   "cell_type": "markdown",
   "metadata": {},
   "source": [
    "### What You Should Already Know\n",
    "\n",
    "- neural networks, forward and back-propagation\n",
    "- stochastic gradient descent\n",
    "- mean squared error\n",
    "- and train/test splits\n",
    "\n",
    "### Where to Get Help if You Need it\n",
    "- Re-watch previous Udacity Lectures\n",
    "- Leverage the recommended Course Reading Material - [Grokking Deep Learning](https://www.manning.com/books/grokking-deep-learning) (40% Off: **traskud17**)\n",
    "- Shoot me a tweet @iamtrask\n",
    "\n",
    "\n",
    "### Tutorial Outline:\n",
    "\n",
    "- Intro: The Importance of \"Framing a Problem\"\n",
    "\n",
    "\n",
    "- Curate a Dataset\n",
    "- Developing a \"Predictive Theory\"\n",
    "- **PROJECT 1**: Quick Theory Validation\n",
    "\n",
    "\n",
    "- Transforming Text to Numbers\n",
    "- **PROJECT 2**: Creating the Input/Output Data\n",
    "\n",
    "\n",
    "- Putting it all together in a Neural Network\n",
    "- **PROJECT 3**: Building our Neural Network\n",
    "\n",
    "\n",
    "- Understanding Neural Noise\n",
    "- **PROJECT 4**: Making Learning Faster by Reducing Noise\n",
    "\n",
    "\n",
    "- Analyzing Inefficiencies in our Network\n",
    "- **PROJECT 5**: Making our Network Train and Run Faster\n",
    "\n",
    "\n",
    "- Further Noise Reduction\n",
    "- **PROJECT 6**: Reducing Noise by Strategically Reducing the Vocabulary\n",
    "\n",
    "\n",
    "- Analysis: What's going on in the weights?"
   ]
  },
  {
   "cell_type": "markdown",
   "metadata": {
    "nbpresent": {
     "id": "56bb3cba-260c-4ebe-9ed6-b995b4c72aa3"
    }
   },
   "source": [
    "# Lesson: Curate a Dataset"
   ]
  },
  {
   "cell_type": "code",
   "execution_count": 18,
   "metadata": {
    "collapsed": false,
    "nbpresent": {
     "id": "eba2b193-0419-431e-8db9-60f34dd3fe83"
    }
   },
   "outputs": [],
   "source": [
    "def pretty_print_review_and_label(i):\n",
    "    print(labels[i] + \"\\t:\\t\" + reviews[i][:80] + \"...\")\n",
    "\n",
    "g = open('reviews.txt','r') # What we know!\n",
    "reviews = list(map(lambda x:x[:-1],g.readlines()))\n",
    "g.close()\n",
    "\n",
    "g = open('labels.txt','r') # What we WANT to know!\n",
    "labels = list(map(lambda x:x[:-1].upper(),g.readlines()))\n",
    "g.close()"
   ]
  },
  {
   "cell_type": "code",
   "execution_count": 19,
   "metadata": {
    "collapsed": false
   },
   "outputs": [
    {
     "data": {
      "text/plain": [
       "25000"
      ]
     },
     "execution_count": 19,
     "metadata": {},
     "output_type": "execute_result"
    }
   ],
   "source": [
    "len(reviews)"
   ]
  },
  {
   "cell_type": "code",
   "execution_count": 20,
   "metadata": {
    "collapsed": false,
    "nbpresent": {
     "id": "bb95574b-21a0-4213-ae50-34363cf4f87f"
    }
   },
   "outputs": [
    {
     "data": {
      "text/plain": [
       "'bromwell high is a cartoon comedy . it ran at the same time as some other programs about school life  such as  teachers  . my   years in the teaching profession lead me to believe that bromwell high  s satire is much closer to reality than is  teachers  . the scramble to survive financially  the insightful students who can see right through their pathetic teachers  pomp  the pettiness of the whole situation  all remind me of the schools i knew and their students . when i saw the episode in which a student repeatedly tried to burn down the school  i immediately recalled . . . . . . . . . at . . . . . . . . . . high . a classic line inspector i  m here to sack one of your teachers . student welcome to bromwell high . i expect that many adults of my age think that bromwell high is far fetched . what a pity that it isn  t   '"
      ]
     },
     "execution_count": 20,
     "metadata": {},
     "output_type": "execute_result"
    }
   ],
   "source": [
    "reviews[0]"
   ]
  },
  {
   "cell_type": "code",
   "execution_count": 21,
   "metadata": {
    "collapsed": false,
    "nbpresent": {
     "id": "e0408810-c424-4ed4-afb9-1735e9ddbd0a"
    }
   },
   "outputs": [
    {
     "data": {
      "text/plain": [
       "'POSITIVE'"
      ]
     },
     "execution_count": 21,
     "metadata": {},
     "output_type": "execute_result"
    }
   ],
   "source": [
    "labels[0]"
   ]
  },
  {
   "cell_type": "markdown",
   "metadata": {},
   "source": [
    "# Lesson: Develop a Predictive Theory"
   ]
  },
  {
   "cell_type": "code",
   "execution_count": 22,
   "metadata": {
    "collapsed": false,
    "nbpresent": {
     "id": "e67a709f-234f-4493-bae6-4fb192141ee0"
    }
   },
   "outputs": [
    {
     "name": "stdout",
     "output_type": "stream",
     "text": [
      "labels.txt \t : \t reviews.txt\n",
      "\n",
      "NEGATIVE\t:\tthis movie is terrible but it has some good effects .  ...\n",
      "POSITIVE\t:\tadrian pasdar is excellent is this film . he makes a fascinating woman .  ...\n",
      "NEGATIVE\t:\tcomment this movie is impossible . is terrible  very improbable  bad interpretat...\n",
      "POSITIVE\t:\texcellent episode movie ala pulp fiction .  days   suicides . it doesnt get more...\n",
      "NEGATIVE\t:\tif you haven  t seen this  it  s terrible . it is pure trash . i saw this about ...\n",
      "POSITIVE\t:\tthis schiffer guy is a real genius  the movie is of excellent quality and both e...\n"
     ]
    }
   ],
   "source": [
    "print(\"labels.txt \\t : \\t reviews.txt\\n\")\n",
    "pretty_print_review_and_label(2137)\n",
    "pretty_print_review_and_label(12816)\n",
    "pretty_print_review_and_label(6267)\n",
    "pretty_print_review_and_label(21934)\n",
    "pretty_print_review_and_label(5297)\n",
    "pretty_print_review_and_label(4998)"
   ]
  },
  {
   "cell_type": "markdown",
   "metadata": {},
   "source": [
    "# Project 1: Quick Theory Validation"
   ]
  },
  {
   "cell_type": "code",
   "execution_count": 122,
   "metadata": {
    "collapsed": true
   },
   "outputs": [],
   "source": [
    "# Incantations for the project\n",
    "from collections import Counter\n",
    "import numpy as np\n",
    "import nltk\n",
    "from nltk.corpus import stopwords\n",
    "from sklearn.feature_extraction.text import CountVectorizer\n",
    "from sklearn.ensemble import RandomForestClassifier\n",
    "\n",
    "# Sets index faster than lists, so this will help with processing time and efficiency\n",
    "stops = set(stopwords.words(\"english\"))"
   ]
  },
  {
   "cell_type": "code",
   "execution_count": 123,
   "metadata": {
    "collapsed": false
   },
   "outputs": [],
   "source": [
    "# Initializes counters, iterates through 'positive' and 'negative' reviews\n",
    "# Creates dictionary with key value pairs of word tokens and frequency\n",
    "# Splits out stop words into separate dictionaries to analyse later\n",
    "# Would be interesting to see if frequency of stop words could be an indicator \n",
    "# for positive / negative reviews by itself.\n",
    "\n",
    "positive_counts = Counter()\n",
    "negative_counts = Counter()\n",
    "clean_counts = Counter()\n",
    "positive_stops = Counter()\n",
    "negative_stops = Counter()\n",
    "\n",
    "for i in range(len(reviews)):\n",
    "    if(labels[i] == 'POSITIVE'):\n",
    "        for word in reviews[i].split(\" \"):\n",
    "            if word in stops:\n",
    "                positive_stops[word] += 1 \n",
    "            else:\n",
    "                positive_counts[word] += 1\n",
    "                clean_counts[word] += 1\n",
    "\n",
    "for i in range(len(reviews)):\n",
    "    if(labels[i] == 'NEGATIVE'):\n",
    "        for word in reviews[i].split(\" \"):\n",
    "            if word in stops:\n",
    "                negative_stops[word] += 1 \n",
    "            else:\n",
    "                negative_counts[word] += 1\n",
    "                clean_counts[word] += 1\n",
    "    "
   ]
  },
  {
   "cell_type": "code",
   "execution_count": 124,
   "metadata": {
    "collapsed": false
   },
   "outputs": [
    {
     "name": "stdout",
     "output_type": "stream",
     "text": [
      "Number of entries in positive lexicon: 55061\n",
      "Number of entries in negative lexicon: 53483\n",
      "Number of entries in clean lexicon: 73921\n",
      "Number of entries in positive stops lexicon: 153\n",
      "Number of entries in negative stops lexicon: 152\n"
     ]
    }
   ],
   "source": [
    "print ('Number of entries in positive lexicon: {}'.format(len(positive_counts)))\n",
    "print ('Number of entries in negative lexicon: {}'.format(len(negative_counts)))\n",
    "print ('Number of entries in clean lexicon: {}'.format(len(clean_counts)))\n",
    "print ('Number of entries in positive stops lexicon: {}'.format(len(positive_stops)))\n",
    "print ('Number of entries in negative stops lexicon: {}'.format(len(negative_stops)))"
   ]
  },
  {
   "cell_type": "markdown",
   "metadata": {},
   "source": [
    "Right now it looks like the vocabulary range is fairly consistent across both negative and positive review buckets. \n",
    "\n",
    "Would be interesting to see how many words were used in each of these buckets."
   ]
  },
  {
   "cell_type": "code",
   "execution_count": 125,
   "metadata": {
    "collapsed": false,
    "scrolled": true
   },
   "outputs": [
    {
     "name": "stdout",
     "output_type": "stream",
     "text": [
      "Number of stop words in negative reviews: 1462007\n",
      "Number of stop words in positive reviews: 1468827\n",
      "Number of words in positive review bucket: 2284117\n",
      "Number of words in negative review bucket: 2244367\n"
     ]
    }
   ],
   "source": [
    "print ('Number of stop words in negative reviews: {}'.format(sum(negative_stops.values())))\n",
    "print ('Number of stop words in positive reviews: {}'.format(sum(positive_stops.values())))\n",
    "print ('Number of words in positive review bucket: {}'.format(sum(positive_counts.values())))\n",
    "print ('Number of words in negative review bucket: {}'.format(sum(negative_counts.values())))\n"
   ]
  },
  {
   "cell_type": "markdown",
   "metadata": {},
   "source": [
    "Again, it looks like these numbers are fairly comparable, with a ~2% increase in size from the negative review bucket to the positive review bucket."
   ]
  },
  {
   "cell_type": "code",
   "execution_count": 126,
   "metadata": {
    "collapsed": false
   },
   "outputs": [
    {
     "name": "stdout",
     "output_type": "stream",
     "text": [
      "(55061, 5000)\n"
     ]
    }
   ],
   "source": [
    "vectorizer = CountVectorizer(analyzer = \"word\",   \\\n",
    "                             tokenizer = None,    \\\n",
    "                             preprocessor = None, \\\n",
    "                             stop_words = None,   \\\n",
    "                             max_features = 5000) \n",
    "\n",
    "train_data_features = vectorizer.fit_transform(positive_counts)\n",
    "train_data_features = train_data_features.toarray()\n",
    "print train_data_features.shape"
   ]
  },
  {
   "cell_type": "code",
   "execution_count": 127,
   "metadata": {
    "collapsed": false
   },
   "outputs": [
    {
     "name": "stdout",
     "output_type": "stream",
     "text": [
      "[u'aa', u'orange', u'oranges', u'orangutan', u'orangutans', u'orations', u'orator', u'oratorio', u'orators', u'oratory', u'orazio', u'orb', u'orbach', u'orbit', u'orbital', u'orbiting', u'orbits', u'orc', u'orchard', u'orchestra', u'orchestral', u'orchestras', u'orchestrate', u'orchestrated', u'orchestrates', u'orchestrating', u'orchestration', u'orchidea', u'orchids', u'orco', u'orcs', u'ordained', u'ordeal', u'ordeals', u'order', u'ordered', u'orderedby', u'ordering', u'orderly', u'orders', u'ordinarily', u'ordinariness', u'ordinary', u'ordination', u'ore', u'oregon', u'oregonian', u'oreilles', u'orenji', u'oreo', u'oreos', u'org', u'organ', u'organic', u'organically', u'organisation', u'organisations', u'organise', u'organised', u'organisers', u'organising', u'organism', u'organisms', u'organist', u'organization', u'organizational', u'organizations', u'organize', u'organized', u'organizers', u'organizes', u'organizing', u'organs', u'orgasm', u'orgasmic', u'orgasms', u'orgazim', u'orgazmo', u'orgies', u'orginal', u'orgolini', u'orgy', u'ori', u'orient', u'oriental', u'orientals', u'orientated', u'orientation', u'orientations', u'oriented', u'origami', u'origin', u'original', u'originalbut', u'originality', u'originally', u'originals', u'originate', u'originated', u'originates', u'originating', u'originator', u'originators', u'origins', u'orignal', u'orignally', u'orin', u'oringinally', u'orisha', u'orked', u'orkly', u'orks', u'orla', u'orlandi', u'orlando', u'orlans', u'orleans', u'orloff', u'ormond', u'ormondroyd', u'orna', u'ornament', u'ornamental', u'ornaments', u'ornate', u'ornella', u'ornery', u'ornithologist', u'oro', u'orphan', u'orphanage', u'orphanages', u'orphaned', u'orphans', u'orpington', u'orr', u'orry', u'orsen', u'orson', u'orthodox', u'ortiz', u'ortolani', u'orton', u'orwell', u'orwellian', u'os', u'osama', u'osborne', u'osbourne', u'oscar', u'oscars', u'oscer', u'oscers', u'oscillators', u'osd', u'osenniy', u'oshea', u'oshii', u'oshin', u'osiric', u'osiris', u'oskar', u'oskorblyonnye', u'oslo', u'osment', u'osmond', u'osmosis', u'ospenskya', u'osric', u'oss', u'ossana', u'ossessione', u'ossie', u'ossification', u'ost', u'ostensible', u'ostensibly', u'ostentation', u'ostentatious', u'ostentatiously', u'osteopath', u'osterman', u'ostfront', u'ostracismbecause', u'ostracized', u'ostrich', u'oswald', u'ota', u'otac', u'otakon', u'otaku', u'othello', u'otherness', u'others', u'otherwise', u'otherworldliness', u'otherworldly', u'othewise', u'otis', u'otomo', u'otranto', u'otsu', u'ott', u'ottawa', u'ottiano', u'otto', u'ottoman', u'otvio', u'ouch', u'oudraogo', u'ouedraogo', u'ought', u'oughta', u'oughts', u'oui', u'ould', u'ounce', u'ourdays', u'ouroboros', u'ourt', u'oust', u'ousted', u'outback', u'outbid', u'outbreak', u'outbreaking', u'outbreaks', u'outburst', u'outbursts', u'outcast', u'outcasts', u'outclassed', u'outclasses', u'outcome', u'outcomes', u'outcrop', u'outcry', u'outdated', u'outdid', u'outdo', u'outdoes', u'outdone', u'outdoor', u'outdoors', u'outdoorsman', u'outdrawing', u'outer', u'outerbridge', u'outers', u'outerspace', u'outfield', u'outfit', u'outfits', u'outflanking', u'outgoing', u'outgrew', u'outgrow', u'outgrowing', u'outgrown', u'outing', u'outings', u'outkast', u'outlandish', u'outlasting', u'outlaw', u'outlawed', u'outlaws', u'outlay', u'outlet', u'outletbut', u'outlets', u'outline', u'outlined', u'outlines', u'outlining', u'outlive', u'outlived', u'outliving', u'outlook', u'outlooking', u'outlooks', u'outmoded', u'outnumber', u'outnumbered', u'outplayed', u'outpost', u'outposts', u'outpouring', u'output', u'outputs', u'outr', u'outracing', u'outrage', u'outraged', u'outrageous', u'outrageously', u'outrageousness', u'outragously', u'outranks', u'outre', u'outreach', u'outright', u'outrightly', u'outrun', u'outrunning', u'outs', u'outset', u'outshine', u'outshined', u'outshines', u'outshining', u'outshone', u'outshoot', u'outside', u'outsider', u'outsiders', u'outsized', u'outskirts', u'outsmart', u'outsmarted', u'outsmarts', u'outsourced', u'outsourcing', u'outspoken', u'outspokenness', u'outstading', u'outstanding', u'outstandingly', u'outstay', u'outta', u'outtake', u'outtakes', u'outvoted', u'outward', u'outwardly', u'outweigh', u'outweighed', u'outweighs', u'outweight', u'outwit', u'outwits', u'ouverte', u'ova', u'oval', u'ovals', u'ovas', u'ovation', u'oven', u'ovens', u'overabundance', u'overachieving', u'overact', u'overacted', u'overacting', u'overactive', u'overacts', u'overage', u'overal', u'overall', u'overalls', u'overarching', u'overbearing', u'overbite', u'overblow', u'overblown', u'overboard', u'overburdened', u'overcame', u'overcoat', u'overcome', u'overcomes', u'overcoming', u'overcompensating', u'overconfidence', u'overconfident', u'overcrowded', u'overdeveloped', u'overdo', u'overdoes', u'overdoing', u'overdone', u'overdose', u'overdramatized', u'overdrive', u'overdrives', u'overdubbed', u'overdubs', u'overdue', u'overeating', u'overemotes', u'overemotional', u'overemphasis', u'overenthusiastic', u'overestimated', u'overexplanation', u'overexposed', u'overexposure', u'overextended', u'overextending', u'overfilled', u'overflow', u'overflowed', u'overflowing', u'overflows', u'overgrown', u'overhaul', u'overhead', u'overhear', u'overheard', u'overhearing', u'overhears', u'overheated', u'overhype', u'overhyped', u'overindulgence', u'overindulging', u'overington', u'overjoyed', u'overkill', u'overkilled', u'overlaid', u'overlap', u'overlapped', u'overlapping', u'overlaps', u'overlay', u'overlays', u'overload', u'overloaded', u'overlong', u'overlook', u'overlooked', u'overlooking', u'overlooks', u'overlord', u'overlords', u'overly', u'overmeyer', u'overnight', u'overnite', u'overpaid', u'overplay', u'overplayed', u'overplaying', u'overplays', u'overpopulated', u'overpopulation', u'overpower', u'overpowered', u'overpowering', u'overpowers', u'overpraise', u'overpraised', u'overpriced', u'overproduced', u'overprotective', u'overqualified', u'overracting', u'overrate', u'overrated', u'overrationalization', u'overreach', u'overreliance', u'overridden', u'override', u'overrided', u'overrides', u'overriding', u'overripe', u'overrules', u'overrun', u'overrunning', u'overs', u'overscaled', u'overseas', u'oversee', u'overseeing', u'overseen', u'overseer', u'oversexed', u'overshadow', u'overshadowed', u'overshadowing', u'overshadows', u'overshooting', u'oversight', u'oversimplify', u'oversimplifying', u'oversimply', u'oversold', u'overspeaks', u'overstate', u'overstated', u'overstatement', u'overstates', u'overstay', u'overstays', u'overstep', u'oversteps', u'overstuffed', u'overstyling', u'overt', u'overtake', u'overtaken', u'overtakes', u'overtaking', u'overthrow', u'overthrowing', u'overthrown', u'overtime', u'overtly', u'overtone', u'overtones', u'overtops', u'overture', u'overtures', u'overturn', u'overturned', u'overturning', u'overuse', u'overused', u'overview', u'overviews', u'overwatched', u'overweening', u'overweight', u'overwhelm', u'overwhelmed', u'overwhelming', u'overwhelmingly', u'overwhelms', u'overwhlelming', u'overwind', u'overworked', u'overwritten', u'overwrought', u'overzealous', u'ovid', u'ovies', u'owe', u'owed', u'owen', u'owens', u'owes', u'owing', u'owl', u'owls', u'owned', u'owner', u'owners', u'ownership', u'owning', u'owns', u'owww', u'ox', u'oxford', u'oxide', u'oxy', u'oxycontin', u'oxygen', u'oxymoron', u'oy', u'oyama', u'oyelowo', u'oyl', u'oz', u'ozaki', u'ozarks', u'ozjeppe', u'ozma', u'ozon', u'ozone', u'ozpetek', u'ozric', u'ozu', u'ozymandias', u'ozzie', u'ozzy', u'pa', u'paalgard', u'paar', u'pablo', u'pabst', u'pabulum', u'pac', u'pace', u'paced', u'pacer', u'paces', u'pacey', u'pachabel', u'pachelbel', u'pachyderms', u'pacierkowski', u'pacific', u'pacifier', u'pacifism', u'pacifist', u'pacifistic', u'pacifists', u'pacify', u'pacifying', u'pacing', u'pacino', u'pacios', u'pack', u'package', u'packaged', u'packaging', u'packard', u'packed', u'packenham', u'packet', u'packing', u'packs', u'packy', u'paco', u'pact', u'pacte', u'pacts', u'pacula', u'pacy', u'pad', u'padarouski', u'padbury', u'padded', u'padding', u'paddle', u'paddles', u'paddling', u'paddy', u'padget', u'padilla', u'padm', u'padme', u'pados', u'padre', u'padrino', u'padruig', u'pads', u'paean', u'paeans', u'paedophile', u'paedophilia', u'paedophiliac', u'paedophilic', u'paesan', u'pafific', u'pagal', u'pagan', u'paganism', u'pagans', u'page', u'pageant', u'pageantry', u'pagent', u'pages', u'paget', u'pagevirgin', u'paging', u'pagliai', u'pah', u'paheli', u'pai', u'paid', u'paige', u'pain', u'paine', u'pained', u'painer', u'painful', u'painfully', u'painkiller', u'painless', u'pains', u'painstaking', u'painstakingly', u'paint', u'paintball', u'paintbrush', u'painted', u'painter', u'painterly', u'painters', u'painting', u'paintings', u'paints', u'pair', u'paired', u'pairing', u'pairings', u'pairs', u'paisley', u'paiva', u'pajama', u'pak', u'pakeeza', u'pakeezah', u'pakeza', u'pakistan', u'pakistani', u'pakistanis', u'pakula', u'pal', u'palace', u'palaces', u'palance', u'palassio', u'palatable', u'palate', u'palates', u'palatir', u'palavras', u'palazzo', u'palde', u'pale', u'paleface', u'paleographic', u'paleontologist', u'pales', u'palestine', u'palestinian', u'palestinians', u'palette', u'palettes', u'paley', u'pall', u'palladium', u'pallette', u'palliates', u'pallid', u'palls', u'palm', u'palma', u'palmas', u'palmawith', u'palme', u'palmer', u'palminteri', u'palms', u'palo', u'palookaville', u'paloozas', u'palpable', u'palpably', u'palpatine', u'pals', u'palsey', u'palsy', u'paltrow', u'paltry', u'palusky', u'paluzzi', u'pam', u'pamanteni', u'pambieri', u'pamby', u'pamela', u'pamelyn', u'pampered', u'pampering', u'pamphlet', u'pamphleteering', u'pan', u'panabaker', u'panacea', u'panache', u'panaghoy', u'panahi', u'panama', u'panamanian', u'panamericano', u'panavision', u'pancake', u'pancakes', u'panchamda', u'pancho', u'pancreas', u'pancreatic', u'panda', u'pandas', u'pander', u'pandered', u'pandering', u'panders', u'pandey', u'pandia', u'pando', u'pandora', u'pandro', u'pane', u'panegyric', u'panel', u'panelling', u'panels', u'panes', u'panettiere', u'pang', u'pangborn', u'panged', u'pangs', u'panhandle', u'panhandler', u'panhandling', u'panic', u'panicked', u'panicking', u'panics', u'panitz', u'panjab', u'panjabi', u'panky', u'panned', u'panning', u'panoply', u'panorama', u'panoramas', u'panoramic', u'pans', u'pansy', u'pantalino', u'pantangeli', u'pantasia', u'panted', u'pantheistic', u'pantheon', u'panther', u'panthers', u'panties', u'panting', u'pantoliano', u'pantomime', u'pants', u'pantsuit', u'panty', u'panzer', u'panzerkreuzer', u'paoli', u'paolo', u'pap', u'papa', u'papal', u'papamichael', u'papamoschou', u'papamoskou', u'papapetrou', u'paparazzi', u'papas', u'papaya', u'paper', u'paperback', u'paperbacks', u'paperboy', u'paperhouse', u'paperino', u'papers', u'papich', u'papierhaus', u'papillon', u'pappas', u'pappy', u'papua', u'paquerette', u'paquin', u'par', u'para', u'parable', u'parables', u'parachute', u'parachuting', u'parachutists', u'paraday', u'parade', u'paraded', u'parades', u'paradice', u'paradigm', u'parading', u'paradis', u'paradise', u'paradiso', u'parado', u'parador', u'paradorian', u'paradox', u'paradoxes', u'paradoxical', u'paradoxically', u'paragon', u'paragraph', u'paragraphs', u'paraguay', u'parakeet', u'paralelling', u'parallax', u'parallel', u'paralleled', u'paralleling', u'parallelism', u'parallelisms', u'parallels', u'paralysis', u'paralyze', u'paralyzed', u'paralyzing', u'paramedic', u'paramedics', u'parameters', u'paramilitaries', u'paraminder', u'paramount', u'paramour', u'paramours', u'paranoia', u'paranoiac', u'paranoic', u'paranoid', u'paranormal', u'paraphernalia', u'paraphrase', u'paraphrased', u'paraphrases', u'paraphrasing', u'parapsychologist', u'parapsychologists', u'parasarolophus', u'parasite', u'parasites', u'parasitic', u'parasitical', u'paraso', u'parasol', u'paraszhanov', u'parati', u'paratrooper', u'parc', u'parcel', u'parceled', u'parched', u'pard', u'pardes', u'pardey', u'pardo', u'pardon', u'pardoned', u'pardons', u'pared', u'paredes', u'paree', u'parekh', u'parent', u'parentage', u'parental', u'parenthesis', u'parenthetically', u'parenthood', u'parenting', u'parentingwhere', u'parents', u'paresh', u'parfait', u'pariah', u'parinda', u'parineeta', u'paring', u'paris', u'parish', u'parishioners', u'parisian', u'parisians', u'parisien', u'parisiennes', u'park', u'parked', u'parker', u'parkers', u'parkes', u'parkey', u'parkhouse', u'parking', u'parkins', u'parkinson', u'parks', u'parlance', u'parlayed', u'parlaying', u'parliament', u'parliamentary', u'parlor', u'parlors', u'parlour', u'parlous', u'parme', u'parmentier', u'parminder', u'parn', u'parnell', u'paro', u'parochialism', u'parodic', u'parodied', u'parodies', u'parodist', u'parody', u'parodying', u'parole', u'paroled', u'parolee', u'parolini', u'parris', u'parrish', u'parrot', u'parrots', u'parrying', u'parsee', u'parsi', u'parsifal', u'parsifals', u'parsimony', u'parslow', u'parson', u'parsons', u'part', u'partake', u'partakes', u'partaking', u'parte', u'parted', u'parter', u'parters', u'partes', u'parti', u'partial', u'partially', u'participant', u'participants', u'participate', u'participated', u'participates', u'participating', u'participation', u'partick', u'particles', u'particolare', u'particuarly', u'particular', u'particulare', u'particularities', u'particularly', u'particulars', u'particulary', u'particullary', u'partido', u'partied', u'partiers', u'parties', u'parting', u'partioned', u'partirdge', u'partisan', u'partition', u'partly', u'partner', u'partnered', u'partnering', u'partners', u'partnership', u'parton', u'partridge', u'parts', u'partum', u'partway', u'party', u'partying', u'parveen', u'pas', u'pasadena', u'pasar', u'pascal', u'pascale', u'paschendale', u'pascow', u'pascual', u'pascualino', u'pasdar', u'pasion', u'paso', u'pasolini', u'pasolinis', u'pasqual', u'pasqualino', u'pass', u'passable', u'passably', u'passage', u'passages', u'passageways', u'passante', u'passe', u'passed', u'passenger', u'passengers', u'passer', u'passers', u'passersby', u'passes', u'passing', u'passion', u'passionate', u'passionately', u'passionless', u'passions', u'passive', u'passively', u'passivity', u'passport', u'passports', u'password', u'passwords', u'passworthy', u'passworthys', u'past', u'pasta', u'pastand', u'paste', u'pasted', u'pastel', u'pasternak', u'pastiche', u'pastiches', u'pastime', u'pastimes', u'pasting', u'pastor', u'pastoral', u'pastore', u'pastorelli', u'pastors', u'pastparticularly', u'pastry', u'pasts', u'pasture', u'pastures', u'pasty', u'pat', u'patakin', u'patb', u'patch', u'patched', u'patches', u'patching', u'patchwork', u'patchy', u'pate', u'patekar', u'patel', u'patent', u'patented', u'patently', u'paternal', u'paternalism', u'paternalistic', u'paternity', u'paterson', u'path', u'pathar', u'pathetic', u'pathetically', u'pathogen', u'pathogens', u'pathological', u'pathologically', u'pathologist', u'pathology', u'pathos', u'paths', u'pathway', u'pathways', u'patience', u'patient', u'patiently', u'patients', u'patil', u'patina', u'patinkin', u'patma', u'patois', u'patriarch', u'patriarchal', u'patriarchy', u'patric', u'patrice', u'patricia', u'patrician', u'patricide', u'patrick', u'patrics', u'patricyou', u'patrik', u'patriot', u'patriotic', u'patriotism', u'patriots', u'patrizio', u'patrol', u'patrolled', u'patrolling', u'patrolman', u'patrols', u'patron', u'patronage', u'patronising', u'patronization', u'patronizing', u'patrons', u'pats', u'patsy', u'patten', u'patter', u'pattern', u'patterned', u'patterns', u'patterson', u'pattes', u'patti', u'patties', u'patting', u'patton', u'patty', u'patzu', u'paucity', u'paul', u'paula', u'pauley', u'paulie', u'pauline', u'paulista', u'paull', u'paulo', u'paulsen', u'paulson', u'pauly', u'pauper', u'paupers', u'paura', u'paurush', u'pause', u'paused', u'pauses', u'pausing', u'pav', u'pavarotti', u'pave', u'paved', u'pavement', u'pavements', u'paves', u'pavey', u'pavignano', u'pavillions', u'paving', u'pavle', u'pavlinek', u'pavlov', u'pavlovian', u'paw', u'pawing', u'pawn', u'pawnbroker', u'pawning', u'pawns', u'paws', u'pax', u'paxinou', u'paxson', u'paxton', u'paxtons', u'pay', u'payaso', u'payback', u'paycheck', u'paychecks', u'paycheque', u'payday', u'paydirt', u'payed', u'paying', u'payment', u'payments', u'paymer', u'payne', u'payoff', u'payoffs', u'payout', u'paypal', u'payroll', u'pays', u'payton', u'paytv', u'paz', u'pazienza', u'pazo', u'pazu', u'pb', u'pbs', u'pc', u'pcm', u'pcp', u'pd', u'pdi', u'pe', u'pea', u'peabody', u'peace', u'peacecraft', u'peaceful', u'peacefulending', u'peacefully', u'peacefulness', u'peacekeepers', u'peacekeeping', u'peacemaker', u'peacemakers', u'peacetime', u'peach', u'peaches', u'peachy', u'peacock', u'peahi', u'peak', u'peaked', u'peaking', u'peaks', u'peal', u'pealed', u'pealing', u'peanut', u'peanuts', u'pear', u'pearl', u'pearlman', u'pearls', u'pearly', u'pears', u'pearson', u'peary', u'peas', u'peasant', u'peasantry', u'peasants', u'peavey', u'pebble', u'pebbles', u'peccadillo', u'peccadilloes', u'peck', u'pecked', u'pecker', u'pecking', u'peckinpah', u'peckinpaugh', u'peclet', u'pectorals', u'peculating', u'peculiar', u'peculiarities', u'peculiarly', u'pedagogue', u'pedant', u'pedantic', u'peddle', u'peddler', u'pederson', u'pedestal', u'pedestrian', u'pedestrians', u'pedicab', u'pedigree', u'pedophile', u'pedophilia', u'pedophiliac', u'pedro', u'pee', u'peed', u'peeing', u'peek', u'peeked', u'peeking', u'peeks', u'peel', u'peeled', u'peeling', u'peels', u'peep', u'peepers', u'peephole', u'peeping', u'peeps', u'peer', u'peering', u'peerless', u'peerlessly', u'peers', u'pees', u'peet', u'peeters', u'peevish', u'peevishness', u'peg', u'pegasus', u'pegg', u'pegged', u'peggie', u'peggoty', u'peggy', u'pegs', u'pei', u'peine', u'pejorative', u'peking', u'pele', u'pelham', u'pelicangs', u'peliky', u'pelle', u'pelletier', u'pelswick', u'pelt', u'pelted', u'pelting', u'pemberton', u'pembleton', u'pempeit', u'pen', u'pena', u'penal', u'penalized', u'penalties', u'penalty', u'penance', u'pence', u'penchant', u'pencier', u'pencil', u'pendanski', u'pendant', u'pendejo', u'pendelton', u'pending', u'pendleton', u'pendragon', u'pendulous', u'pendulum', u'penelope', u'penetrate', u'penetrated', u'penetrates', u'penetrating', u'penetration', u'pengium', u'pengiun', u'penguim', u'penguin', u'penguins', u'pengy', u'penicillin', u'peninsula', u'peninsular', u'penis', u'penises', u'penislized', u'penitentiaries', u'penitentiary', u'penitently', u'penlight', u'penlope', u'penn', u'pennant', u'penned', u'pennies', u'penniless', u'penning', u'pennsylvania', u'penny', u'penpusher', u'penquin', u'pens', u'pensaba', u'pensacola', u'pensacolians', u'pension', u'pensioner', u'pensions', u'pensive', u'pent', u'pentagon', u'pentagrams', u'pentameter', u'penthouse', u'penthouses', u'penultimate', u'peobody', u'people', u'peopled', u'peoples', u'peoria', u'pepe', u'pepi', u'pepino', u'pepoire', u'peppard', u'pepper', u'pepperday', u'peppered', u'pepperhaus', u'peppering', u'peppermint', u'peppers', u'peppoire', u'peppy', u'pepsi', u'pepto', u'peque', u'pequin', u'per', u'perabo', u'peracaula', u'peralta', u'perc', u'perce', u'perceive', u'perceived', u'perceives', u'percent', u'percentage', u'percentages', u'percept', u'perception', u'perceptional', u'perceptions', u'perceptive', u'perceptively', u'perch', u'perched', u'percolating', u'percussion', u'percussionist', u'percy', u'perdita', u'perdition', u'perdu', u'pere', u'peregrinations', u'pereira', u'perennial', u'peres', u'perestroika', u'peretti', u'perez', u'perfect', u'perfected', u'perfection', u'perfectionism', u'perfectionist', u'perfectionistic', u'perfectly', u'perfectness', u'perfects', u'perfeita', u'perfetta', u'perfidy', u'perfomances', u'perforamnce', u'perform', u'performace', u'performaces', u'performance', u'performanceeven', u'performancein', u'performances', u'performancesand', u'performed', u'performer', u'performers', u'performing', u'performs', u'perfume', u'perfumes', u'perfunctory', u'perhaps', u'perier', u'peril', u'perilous', u'perilously', u'perils', u'perinal', u'period', u'periodic', u'periodical', u'periodically', u'periodicals', u'periods', u'peripatetic', u'peripheral', u'periphery', u'perish', u'perished', u'perishes', u'peritonitis', u'perjury', u'perk', u'perked', u'perkiness', u'perking', u'perkins', u'perks', u'perky', u'perla', u'perlman', u'perm', u'permanence', u'permanent', u'permanently', u'permeable', u'permeate', u'permeated', u'permeates', u'permeating', u'permed', u'permissible', u'permission', u'permissive', u'permit', u'permits', u'permitted', u'permitting', u'permnanet', u'perms', u'permutations', u'pernell', u'pernicious', u'pero', u'perogatives', u'peron', u'perovitch', u'perp', u'perpetrate', u'perpetrated', u'perpetrating', u'perpetrator', u'perpetrators', u'perpetual', u'perpetually', u'perpetuate', u'perpetuated', u'perpetuates', u'perpetuating', u'perplex', u'perplexed', u'perplexedly', u'perplexing', u'perplexities', u'perplexity', u'perps', u'perr', u'perrault', u'perrier', u'perrineau', u'perron', u'perros', u'perry', u'persbrandt', u'persecute', u'persecuted', u'persecuting', u'persecution', u'persecutions', u'persecutors', u'persepctive', u'persepolis', u'perseverance', u'persevere', u'perseverence', u'perseveres', u'persevering', u'persia', u'persian', u'persians', u'persifina', u'persist', u'persistance', u'persistence', u'persistent', u'persistently', u'persists', u'person', u'persona', u'personable', u'personage', u'personages', u'personal', u'personalities', u'personality', u'personalize', u'personalized', u'personally', u'personals', u'personas', u'personation', u'personia', u'personification', u'personified', u'personifies', u'personify', u'personifying', u'personl', u'personnage', u'personnal', u'personnaly', u'personnel', u'persons', u'perspective', u'perspectives', u'perspicacious', u'perspiring', u'persson', u'persuade', u'persuaded', u'persuaders', u'persuades', u'persuading', u'persuasion', u'persuasions', u'persuasive', u'persuasively', u'persue', u'persuing', u'pert', u'pertaining', u'pertains', u'pertfectly', u'perth', u'pertinacity', u'pertinence', u'pertinent', u'perturbed', u'pertwee', u'pertwees', u'peru', u'peruse', u'perusing', u'peruvian', u'peruvians', u'pervaded', u'pervades', u'pervading', u'pervasive', u'pervasively', u'perverse', u'perversely', u'perversion', u'perversions', u'perversity', u'pervert', u'perverted', u'pervertish', u'perverts', u'pervious', u'pervs', u'pervy', u'pes', u'peschi', u'pesci', u'pesky', u'pessimism', u'pessimist', u'pessimistic', u'pessimists', u'pest', u'pestered', u'pestilence', u'pet', u'peta', u'petal', u'petals', u'petard', u'pete', u'peter', u'peters', u'petersen', u'peterson', u'petey', u'petiot', u'petit', u'petite', u'petites', u'petition', u'petitiononline', u'petr', u'petra', u'petri', u'petrielli', u'petrified', u'petrifying', u'petrillo', u'petrochemical', u'petroichan', u'petrol', u'petroleum', u'petron', u'petronijevic', u'petronius', u'petrucci', u'pets', u'petter', u'pettet', u'petticoat', u'pettiness', u'petting', u'pettit', u'petto', u'petty', u'petulance', u'petulant', u'petunia', u'petunias', u'petwee', u'petzold', u'peva', u'pevensie', u'peww', u'peyote', u'peyton', u'pf', u'pfcs', u'pfeiffer', u'pfiefer', u'pfieffer', u'pg', u'ph', u'phainomena', u'phair', u'phalke', u'phallic', u'phallus', u'phantasm', u'phantasmagorical', u'phantasms', u'phantom', u'phantoms', u'pharagraph', u'pharmacist', u'pharmacology', u'pharmacy', u'phase', u'phased', u'phases', u'phd', u'pheacians', u'pheasants', u'phedon', u'pheebs', u'phelps', u'phenom', u'phenomena', u'phenomenal', u'phenomenally', u'phenomenon', u'phenomenons', u'phenominal', u'phenoms', u'pheobe', u'pheonix', u'pheri', u'pheromonal', u'phew', u'phibbs', u'phibes', u'phieffer', u'phiiistine', u'phil', u'philadelphia', u'philadelpia', u'philanderer', u'philandering', u'philanthropic', u'philanthropist', u'philco', u'phildelphia', u'phile', u'philedelphia', u'philes', u'philharmonic', u'philharmoniker', u'phili', u'philidelphia', u'philip', u'philipas', u'philipe', u'philippe', u'philippians', u'philippine', u'philippines', u'philippon', u'philipps', u'philips', u'philistines', u'phillimines', u'phillip', u'phillipe', u'phillipines', u'phillippe', u'phillips', u'phillis', u'phillistines', u'philly', u'philo', u'philologist', u'philomath', u'philosopher', u'philosophers', u'philosophic', u'philosophical', u'philosophically', u'philosophies', u'philosophise', u'philosophising', u'philosophize', u'philosophizes', u'philosophizing', u'philosophy', u'phinius', u'phipps', u'phlegm', u'phlegmatic', u'phlip', u'phlox', u'phobia', u'phobias', u'phobic', u'phoebe', u'phoenix', u'phoenixs', u'phoenixville', u'phone', u'phoned', u'phones', u'phonetically', u'phoney', u'phonies', u'phoning', u'phonograph', u'phony', u'phool', u'phoren', u'photo', u'photog', u'photogenic', u'photograhy', u'photograped', u'photograph', u'photographed', u'photographer', u'photographers', u'photographic', u'photographing', u'photographs', u'photography', u'photogrsphed', u'photojournalist', u'photojournals', u'photos', u'php', u'phrase', u'phrased', u'phrases', u'phrasing', u'phyillis', u'phylicia', u'phyllida', u'phyllis', u'physchedelia', u'physco', u'physical', u'physicality', u'physicallity', u'physically', u'physician', u'physicians', u'physicist', u'physicists', u'physics', u'physiological', u'physiologically', u'physique', u'physiques', u'physit', u'phyton', u'pi', u'pia', u'piaf', u'pialat', u'pian', u'piana', u'pianful', u'pianist', u'pianists', u'piano', u'pianos', u'piazza', u'pic', u'picard', u'picardo', u'picaresque', u'picasso', u'picchu', u'piccin', u'picford', u'picher', u'pick', u'pickard', u'pickaxes', u'picked', u'pickens', u'picker', u'pickers', u'picket', u'pickford', u'pickier', u'picking', u'pickings', u'pickins', u'pickle', u'pickles', u'pickpocket', u'pickpocketed', u'pickpockets', u'picks', u'pickup', u'pickwick', u'picky', u'picnic', u'picnicking', u'picnics', u'pico', u'picot', u'pics', u'pictorial', u'pictorially', u'picture', u'pictured', u'picturehe', u'pictures', u'picturesque', u'picturesquely', u'picturing', u'picturisation', u'picturisations', u'picturised', u'picturization', u'picutres', u'pide', u'pidgeon', u'pidgin', u'pidras', u'pie', u'piece', u'pieced', u'piecemeal', u'pieces', u'piecing', u'pieczanski', u'pied', u'piedgon', u'piedras', u'piemaker', u'piemakers', u'pier', u'pierce', u'pierced', u'pierces', u'piercing', u'piere', u'piering', u'pierre', u'pierrot', u'piers', u'pierson', u'pies', u'pietro', u'piety', u'pieuvres', u'piffle', u'pig', u'pigalle', u'pigeon', u'pigeonhole', u'pigeonholed', u'pigeons', u'pigging', u'piggy', u'piggys', u'piglets', u'pigs', u'pigsty', u'pigtailed', u'pikachu', u'pike', u'pikser', u'pilar', u'pilate', u'pile', u'piled', u'pileggi', u'piles', u'pilfering', u'pilfers', u'pilger', u'pilgrim', u'pilgrimage', u'pilgrims', u'piling', u'pilippinos', u'pill', u'pillage', u'pillar', u'pillars', u'pillman', u'pilloried', u'pillory', u'pillow', u'pillows', u'pills', u'pillsbury', u'pilmarks', u'pilot', u'piloted', u'piloting', u'pilots', u'pima', u'pimeduses', u'pimlico', u'pimp', u'pimped', u'pimpernel', u'pimpin', u'pimping', u'pimples', u'pimply', u'pimps', u'pin', u'pinacle', u'pinball', u'pincers', u'pinch', u'pinched', u'pincher', u'pinches', u'pinching', u'pinciotti', u'pine', u'pineapple', u'pines', u'pineyro', u'pinfall', u'pinfold', u'ping', u'pingo', u'pining', u'pinjar', u'pink', u'pinkerton', u'pinkett', u'pinkie', u'pinkins', u'pinks', u'pinku', u'pinkus', u'pinky', u'pinnacle', u'pinnacles', u'pinned', u'pinning', u'pinnings', u'pinnochio', u'pinnocioesque', u'pino', u'pinochet', u'pinochets', u'pinoy', u'pinpoint', u'pinpoints', u'pins', u'pint', u'pinter', u'pinto', u'pinup', u'pioneer', u'pioneered', u'pioneering', u'pioneers', u'pious', u'piovani', u'pip', u'pipe', u'pipeline', u'piper', u'pipers', u'pipes', u'piping', u'pippin', u'pipsqueak', u'piquant', u'pique', u'piqued', u'piracy', u'pirate', u'pirated', u'pirates', u'pirotess', u'pirouette', u'pirouettes', u'pirovitch', u'pisana', u'piscapo', u'piscipo', u'piscopo', u'piso', u'piss', u'pisses', u'pissing', u'pissy', u'pistilli', u'pistol', u'pistoleers', u'pistols', u'piston', u'pit', u'pita', u'pitaji', u'pitch', u'pitched', u'pitcher', u'pitchers', u'pitches', u'pitching', u'piteous', u'piteously', u'pitfall', u'pitfalls', u'pithy', u'pitiable', u'pitiably', u'pitied', u'pitiful', u'pitifully', u'pitiless', u'pits', u'pitt', u'pitted', u'pittiful', u'pitting', u'pitts', u'pittsburgh', u'pity', u'pityful', u'pitying', u'pitzalis', u'pivotal', u'pivots', u'pixar', u'pixardreamworks', u'pixely', u'pixie', u'pixilation', u'pizazz', u'pizza', u'pizzazz', u'pj', u'pl', u'plaage', u'placage', u'placate', u'placates', u'place', u'placed', u'placement', u'placements', u'placenta', u'places', u'placesyou', u'placid', u'placidly', u'placidness', u'placido', u'placing', u'placings', u'plaggy', u'plagiarism', u'plagiaristic', u'plague', u'plagued', u'plagues', u'plaguing', u'plaid', u'plain', u'plainclothes', u'plainly', u'plainness', u'plains', u'plainsman', u'plainspoken', u'plaintiffs', u'plaintive', u'plan', u'planche', u'plane', u'planes', u'planet', u'planetary', u'planetoids', u'planets', u'plangent', u'planified', u'planing', u'plank', u'planks', u'planned', u'planner', u'planning', u'plans', u'plant', u'plantage', u'plantation', u'plantations', u'planted', u'planter', u'planting', u'plants', u'plaque', u'plascencia', u'plasma', u'plaster', u'plastered', u'plastic', u'plasticness', u'plastics', u'plat', u'plata', u'plate', u'plateau', u'plateaus', u'plated', u'plateful', u'plater', u'plates', u'platform', u'platforms', u'plath', u'platini', u'platinum', u'platitudes', u'platitudinous', u'plato', u'platonic', u'platoon', u'platt', u'platter', u'platters', u'plaudits', u'plausibility', u'plausible', u'plausibly', u'play', u'playback', u'playboy', u'playboys', u'played', u'player', u'players', u'playful', u'playfully', u'playfulness', u'playgirl', u'playground', u'playgrounds', u'playhouse', u'playing', u'playmate', u'playmates', u'playoffs', u'plays', u'playschool', u'playstation', u'plaything', u'playtime', u'playwright', u'playwrights', u'playwrite', u'playwriting', u'plaza', u'plea', u'plead', u'pleading', u'pleadings', u'pleads', u'pleas', u'pleasance', u'pleasant', u'pleasantly', u'pleasants', u'pleasantville', u'pleasantvillesque', u'pleasaunces', u'please', u'pleased', u'pleaseee', u'pleasence', u'pleasent', u'pleasently', u'pleaser', u'pleases', u'pleasing', u'pleasingly', u'pleasurable', u'pleasure', u'pleasures', u'pleasuring', u'plebeianism', u'pledge', u'pledged', u'pledges', u'pledging', u'pleeease', u'plentiful', u'plently', u'plenty', u'plesantly', u'pleshette', u'plesiosaur', u'plethora', u'plex', u'plexiglass', u'pliable', u'plied', u'pliers', u'plies', u'plight', u'plights', u'plimpton', u'plinplin', u'plissken', u'plod', u'plodded', u'plodding', u'plods', u'plonk', u'plonked', u'plopped', u'plot', u'plotkurt', u'plotless', u'plotline', u'plotlines', u'plots', u'plotsidney', u'plotted', u'plotters', u'plotting', u'plotwise', u'plough', u'ploughs', u'plow', u'plowed', u'plowright', u'ploy', u'ploys', u'pluck', u'plucked', u'pluckin', u'plucking', u'pluckings', u'pluckish', u'plucks', u'plucky', u'plug', u'plugged', u'plugging', u'plugs', u'plum', u'plumage', u'plumb', u'plumber', u'plumbing', u'plumbs', u'plume', u'plummer', u'plummeted', u'plummeting', u'plummets', u'plump', u'plumped', u'plumpish', u'plums', u'plunda', u'plunder', u'plundered', u'plundering', u'plunge', u'plunged', u'plunges', u'plunging', u'plunkett', u'pluperfect', u'plural', u'plus', u'pluses', u'plush', u'plussed', u'pluto', u'plutocrats', u'ply', u'plying', u'plymouth', u'plympton', u'plywood', u'plz', u'pm', u'pmrc', u'pnc', u'pneumonic', u'pnico', u'pninson', u'pnis', u'po', u'poach', u'pocahontas', u'pocasni', u'pock', u'pocket', u'pocketbook', u'pocketed', u'pocketing', u'pockets', u'pocus', u'pod', u'podalyds', u'poder', u'podge', u'podiatrist', u'pods', u'podunk', u'poe', u'poehler', u'poelvoorde', u'poem', u'poems', u'poet', u'poetic', u'poetical', u'poetically', u'poetics', u'poetry', u'poets', u'pogany', u'pogees', u'pogroms', u'pohler', u'poifect', u'poignancy', u'poignant', u'poignantly', u'poindexter', u'point', u'pointe', u'pointeblank', u'pointed', u'pointedly', u'pointer', u'pointers', u'pointfirst', u'pointing', u'pointjust', u'pointless', u'pointlessly', u'pointlessness', u'points', u'pointy', u'poirot', u'poirots', u'poise', u'poised', u'poison', u'poisoned', u'poisoner', u'poisoning', u'poisonous', u'poisons', u'poitier', u'pojar', u'poke', u'pokeball', u'poked', u'pokemon', u'poker', u'pokes', u'poking', u'pokmon', u'pol', u'polack', u'poland', u'polanksi', u'polanski', u'polar', u'polarisdib', u'polarised', u'polarization', u'polarized', u'polarizing', u'polay', u'poldi', u'pole', u'polemic', u'polemical', u'poles', u'poli', u'police', u'policeman', u'policemen', u'policeschool', u'policewoman', u'policewomen', u'policial', u'policier', u'policies', u'policing', u'policy', u'polidori', u'polish', u'polished', u'polishes', u'polishing', u'politbiro', u'politburo', u'polite', u'politely', u'politeness', u'political', u'politically', u'politician', u'politicians', u'politicization', u'politico', u'politicos', u'politics', u'politiki', u'polito', u'polity', u'polk', u'polka', u'poll', u'pollack', u'pollak', u'pollard', u'polled', u'polley', u'pollinated', u'pollinating', u'pollination', u'pollock', u'polls', u'pollute', u'polluted', u'pollutes', u'polluting', u'pollution', u'pollutions', u'polly', u'pollyanna', u'polo', u'polonius', u'pols', u'poltergeist', u'poly', u'polyester', u'polygamist', u'polygamy', u'polygraph', u'polymath', u'polymer', u'polynesia', u'polystyrene', u'polysyllabic', u'pom', u'pomade', u'pomegranate', u'pomeranian', u'pomerantz', u'pommies', u'pomp', u'pompadour', u'pomposity', u'pompous', u'poms', u'poncho', u'pond', u'ponder', u'ponderance', u'pondered', u'pondering', u'ponderosa', u'ponderous', u'ponds', u'pone', u'pong', u'pongo', u'ponies', u'pons', u'pontente', u'pontiac', u'pontificating', u'pontification', u'pony', u'ponytail', u'poo', u'pooch', u'poodle', u'poof', u'poofs', u'poofters', u'pooh', u'pool', u'poolboys', u'poole', u'pooling', u'poolman', u'pools', u'poolside', u'poonam', u'poop', u'pooped', u'poor', u'poorer', u'poorest', u'poorly', u'pop', u'popcorn', u'popcorncoke', u'popculture', u'pope', u'popes', u'popeye', u'popeyelikethe', u'popinjay', u'popistasu', u'popkin', u'poplular', u'poppa', u'popped', u'poppens', u'poppers', u'popping', u'poppingly', u'poppins', u'poppy', u'poppycock', u'pops', u'popstar', u'populace', u'popular', u'popularising', u'popularity', u'popularize', u'popularizer', u'popularizing', u'popularly', u'populate', u'populated', u'population', u'populations', u'populism', u'populist', u'populistic', u'populous', u'popwell', u'por', u'porcasi', u'porcelain', u'porch', u'porcine', u'porcupine', u'porcupines', u'pore', u'pored', u'porel', u'porfirio', u'pork', u'porky', u'porkys', u'porn', u'pornichet', u'porno', u'pornographe', u'pornographer', u'pornographic', u'pornography', u'pornos', u'porns', u'pornstars', u'pornstress', u'porsches', u'port', u'portabello', u'portabellow', u'portable', u'portait', u'portal', u'portals', u'portastatic', u'portayal', u'porte', u'ported', u'portent', u'portents', u'porter', u'porters', u'portfolio', u'portfolios', u'porthos', u'portico', u'portion', u'portions', u'portland', u'portly', u'portman', u'portmanteau', u'porto', u'portobello', u'portrais', u'portrait', u'portraited', u'portraits', u'portray', u'portrayal', u'portrayals', u'portrayed', u'portrayer', u'portraying', u'portrayl', u'portrays', u'ports', u'portugal', u'portugeuse', u'portuguese', u'portugueses', u'posa', u'pose', u'posed', u'posehn', u'posers', u'poses', u'poseurs', u'posey', u'posh', u'posidon', u'posing', u'posit', u'position', u'positioned', u'positioning', u'positions', u'positive', u'positively', u'positives', u'positronic', u'posits', u'posse', u'posses', u'possesed', u'possess', u'possessed', u'possesses', u'possessing', u'possessingand', u'possession', u'possessions', u'possessive', u'possessively', u'possessiveness', u'possibilities', u'possibility', u'possible', u'possibly', u'post', u'postal', u'postcard', u'postcards', u'postdates', u'posted', u'poster', u'posterior', u'posteriorly', u'posteriors', u'posterity', u'posters', u'posthumous', u'posthumously', u'posting', u'postings', u'postlewaite', u'postman', u'postmaster', u'postmodern', u'postpone', u'postponed', u'postponement', u'posts', u'postscript', u'posttraumatic', u'posture', u'postures', u'posturing', u'posturings', u'postwar', u'posy', u'pot', u'potato', u'potatoes', u'potboiler', u'potboilers', u'potch', u'potee', u'potemkin', u'potency', u'potent', u'potenta', u'potente', u'potential', u'potentialities', u'potentiality', u'potentially', u'potentials', u'potently', u'poter', u'pothead', u'potheads', u'pothole', u'potholes', u'potion', u'potions', u'potok', u'potosi', u'potrays', u'potted', u'potter', u'potters', u'pottery', u'potts', u'potty', u'potyomkin', u'pou', u'pouch', u'pouchy', u'poulain', u'poulange', u'poultry', u'pounce', u'pound', u'pounded', u'pounding', u'poundingly', u'pounds', u'poundsseven', u'pour', u'poured', u'pouring', u'pours', u'pouted', u'pouting', u'pouts', u'pouty', u'pov', u'poverty', u'pow', u'powder', u'powders', u'powell', u'powells', u'power', u'powerbomb', u'powerbombed', u'powerdrill', u'powered', u'powerful', u'powerfully', u'powerglove', u'powerhouse', u'powerhouses', u'powering', u'powerless', u'powerlessly', u'powerlessness', u'powers', u'pows', u'pox', u'pp', u'ppl', u'ppv', u'pquerette', u'pr', u'praarthana', u'practicable', u'practical', u'practicalities', u'practicality', u'practically', u'practice', u'practiced', u'practices', u'practicing', u'practicly', u'practise', u'practised', u'practising', u'practitioner', u'practitioners', u'prada', u'prado', u'prag', u'pragmatic', u'pragmatically', u'pragmatics', u'pragmatism', u'pragmatist', u'prague', u'prairie', u'prairies', u'praise', u'praised', u'praises', u'praiseworthiness', u'praiseworthy', u'praising', u'prakash', u'pranced', u'prancer', u'prances', u'prancing', u'prank', u'pranks', u'prankster', u'pranksters', u'pransky', u'prarie', u'pras', u'prashant', u'pratfall', u'pratfalls', u'pratically', u'prating', u'pratt', u'pravda', u'pray', u'prayed', u'prayer', u'prayers', u'praying', u'prays', u'prc', u'pre', u'preach', u'preached', u'preacher', u'preacherman', u'preachiness', u'preaching', u'preachy', u'preadolescence', u'preamble', u'precarious', u'precariously', u'precautions', u'precede', u'preceded', u'precedence', u'precedent', u'precedents', u'precedes', u'preceding', u'precinct', u'precious', u'preciously', u'precipice', u'precipitants', u'precipitate', u'precipitated', u'precipitates', u'precipitating', u'precipitous', u'precise', u'precisely', u'precision', u'preclude', u'precludes', u'precocious', u'precociously', u'precociousness', u'precode', u'precodes', u'preconceive', u'preconceived', u'preconception', u'preconceptions', u'precondition', u'precursor', u'precursors', u'preda', u'predate', u'predated', u'predates', u'predating', u'predation', u'predator', u'predators', u'predatory', u'predeccesor', u'predecessor', u'predecessors', u'predefined', u'predestination', u'predestined', u'predetermined', u'predicament', u'predicaments', u'predicate', u'predicated', u'predict', u'predictability', u'predictable', u'predictably', u'predicted', u'predictible', u'predicting', u'prediction', u'predictions', u'predictive', u'predicts', u'predigested', u'predisposed', u'predispositions', u'predominant', u'predominantly', u'predominate', u'predominately', u'predominates', u'predominating', u'preem', u'preeminent', u'preempted', u'preemptive', u'preemptively', u'preening', u'prefabricated', u'preface', u'prefect', u'prefer', u'preferable', u'preferably', u'preference', u'preferences', u'preferred', u'preferring', u'prefers', u'prefigures', u'preform', u'preformance', u'preformed', u'preforming', u'preggo', u'pregnancies', u'pregnancy', u'pregnant', u'pregnantwhat', u'prehensile', u'prehistoric', u'preiti', u'preity', u'prejudice', u'prejudiced', u'prejudices', u'prejudicial', u'prejudicm', u'preliminary', u'prelude', u'prem', u'premade', u'premature', u'prematurely', u'prematurelyleaving', u'premchand', u'premedical', u'premier', u'premiere', u'premiered', u'premieres', u'premiering', u'preminger', u'premise', u'premised', u'premises', u'premium', u'premonition', u'premonitions', u'prenez', u'prentiss', u'preoccupation', u'preoccupations', u'preoccupied', u'preordained', u'preordains', u'preordered', u'prep', u'preparation', u'preparations', u'preparatory', u'prepare', u'prepared', u'prepares', u'preparing', u'prepoire', u'prepon', u'preponderance', u'preposterous', u'prepped', u'preppie', u'prepping', u'preppy', u'preprint', u'preps', u'prepubescent', u'prequel', u'prequels', u'prerelease', u'prerequisite', u'prerequisites', u'prerogatives', u'pres', u'presaged', u'presages', u'presbyterian', u'presbyterians', u'preschool', u'prescience', u'prescient', u'prescott', u'prescreening', u'prescribe', u'prescribes', u'prescriptions', u'presenation', u'presence', u'presences', u'present', u'presentation', u'presentations', u'presented', u'presenter', u'presenters', u'presenting', u'presently', u'presents', u'preservation', u'preservatives', u'preserve', u'preserved', u'preserves', u'preserving', u'preset', u'presided', u'presidency', u'president', u'presidente', u'presidential', u'presidents', u'presides', u'presiding', u'presley', u'presnell', u'presque', u'press', u'pressberger', u'pressburger', u'pressed', u'pressence', u'presses', u'pressing', u'pressly', u'presson', u'pressuburger', u'pressure', u'pressured', u'pressures', u'pressuring', u'pressurizes', u'prestidigitator', u'prestige', u'prestigious', u'presto', u'preston', u'presumable', u'presumably', u'presumbably', u'presume', u'presumed', u'presumes', u'presuming', u'presumption', u'presumptuous', u'pretagonist', u'prete', u'preteen', u'preteens', u'pretence', u'pretend', u'pretended', u'pretendeous', u'pretenders', u'pretending', u'pretends', u'pretense', u'pretenses', u'pretension', u'pretensions', u'pretensious', u'pretention', u'pretentions', u'pretentious', u'pretentiously', u'pretentiousness', u'preternaturally', u'pretext', u'prettier', u'prettiest', u'prettily', u'prettiness', u'pretty', u'pretzel', u'pretzels', u'prevail', u'prevailed', u'prevailing', u'prevails', u'prevalence', u'prevalent', u'prevent', u'prevented', u'preventing', u'prevention', u'prevents', u'prevert', u'preview', u'previewed', u'previews', u'previous', u'previously', u'prewar', u'prey', u'preyall', u'preying', u'preys', u'prez', u'priam', u'price', u'pricebut', u'priced', u'priceless', u'pricelessly', u'prices', u'pricey', u'prichard', u'pricing', u'pricked', u'pricking', u'prickly', u'pride', u'prideful', u'pried', u'prier', u'priest', u'priestess', u'priesthood', u'priestley', u'priestly', u'priests', u'prieuve', u'priggish', u'prigs', u'prim', u'prima', u'primadonna', u'primal', u'primarilly', u'primarily', u'primary', u'prime', u'primed', u'primer', u'primes', u'primetime', u'primeval', u'priming', u'primitive', u'primordial', u'primrose', u'primus', u'prince', u'princely', u'princes', u'princess', u'princesse', u'princesses', u'princeton', u'principal', u'principality', u'principally', u'principals', u'principaly', u'principe', u'principle', u'principled', u'principles', u'pringle', u'print', u'printed', u'printer', u'printing', u'prints', u'prior', u'priori', u'priorities', u'priority', u'recant', u'recants', u'recap', u'recapitulate', u'recapitulates', u'recapping', u'recapture', u'recaptured', u'recaptures', u'recapturing', u'recast', u'recasting', u'reccomend', u'reccomended', u'reccomened', u'reccommend', u'receded', u'receding', u'receipt', u'receipts', u'receive', u'received', u'receives', u'receiving', u'recent', u'recently', u'receptacle', u'reception', u'receptionist', u'receptionists', u'receptive', u'recertified', u'recess', u'recesses', u'recession', u'recessive', u'recherch', u'recherche', u'rechristened', u'recieved', u'recipe', u'recipes', u'recipient', u'reciprocate', u'reciprocated', u'reciprocates', u'reciprocating', u'reciprocation', u'recital', u'recitation', u'recite', u'recited', u'recites', u'reciting', u'reckless', u'recklessly', u'recklessness', u'reckon', u'reckoned', u'reckoning', u'reclaim', u'reclaiming', u'reclaims', u'reclamation', u'reclining', u'recluse', u'recluses', u'reclusive', u'recoding', u'recognisable', u'recognisably', u'recognise', u'recognised', u'recognises', u'recognising', u'recognition', u'recognizable', u'recognizably', u'recognize', u'recognized', u'recognizes', u'recognizing', u'recoiling', u'recollect', u'recollected', u'recollecting', u'recollection', u'recollections', u'recollects', u'recombining', u'recomear', u'recomend', u'recommanded', u'recommeded', u'recommend', u'recommendable', u'recommendation', u'recommendations', u'recommended', u'recommending', u'recommends', u'recon', u'reconcilable', u'reconcile', u'reconciled', u'reconciles', u'reconciliation', u'reconciling', u'reconfirmed', u'reconnaissance', u'reconnect', u'reconnecting', u'reconnects', u'reconquer', u'reconsider', u'reconsidered', u'reconsidering', u'reconsiders', u'reconstituted', u'reconstitution', u'reconstruct', u'reconstructed', u'reconstruction', u'reconstructions', u'recopies', u'record', u'recordable', u'recorded', u'recorder', u'recording', u'recordings', u'records', u'recored', u'recount', u'recounted', u'recounting', u'recounts', u'recoup', u'recover', u'recovered', u'recovering', u'recovers', u'recovery', u'recreate', u'recreated', u'recreates', u'recreating', u'recreation', u'recreational', u'recreations', u'recriminations', u'recrudescence', u'recruit', u'recruited', u'recruiters', u'recruiting', u'recruitment', u'recruits', u'rectangle', u'rectangles', u'rectangular', u'rectified', u'rectify', u'rectifying', u'rectitude', u'rector', u'rectum', u'recuperate', u'recuperating', u'recur', u'recurrent', u'recurring', u'recursive', u'recyclable', u'recycle', u'recycled', u'recycles', u'recycling', u'red', u'reda', u'redblock', u'redcoat', u'redcoats', u'redd', u'redden', u'redding', u'reddish', u'redecorating', u'redeem', u'redeemable', u'redeemed', u'redeeming', u'redeems', u'redefine', u'redefined', u'redefines', u'redemption', u'redemptive', u'redesign', u'redesigned', u'redeye', u'redfield', u'redford', u'redgrave', u'redhead', u'rediculous', u'redifined', u'redirect', u'redirected', u'rediscover', u'rediscovered', u'rediscovering', u'rediscovers', u'rediscovery', u'redistribute', u'redlich', u'redlight', u'redlitch', u'redman', u'redmon', u'redneck', u'rednecks', u'redo', u'redoing', u'redone', u'redoubled', u'redoubtable', u'redraws', u'redress', u'redressed', u'redresses', u'redrum', u'reds', u'redsox', u'redstacey', u'redstone', u'redubbed', u'reduce', u'reduced', u'reduces', u'reducing', u'reduction', u'reductionism', u'reductive', u'redundancies', u'redundancy', u'redundant', u'redundantly', u'redux', u'reece', u'reed', u'reeds', u'reeducation', u'reedus', u'reedy', u'reeeaally', u'reefer', u'reek', u'reeking', u'reeks', u'reel', u'reeled', u'reeler', u'reelers', u'reeling', u'reels', u'reemerge', u'reemergence', u'reenact', u'reenacting', u'reenactment', u'reenberg', u'reenters', u'rees', u'reese', u'reestablishing', u'reevaluate', u'reeve', u'reeves', u'ref', u'refer', u'referat', u'refered', u'referee', u'referees', u'reference', u'referenced', u'references', u'referencing', u'referendum', u'referential', u'refering', u'referrals', u'referred', u'referring', u'refers', u'refine', u'refined', u'refinement', u'reflect', u'reflected', u'reflecting', u'reflection', u'reflections', u'reflective', u'reflectors', u'reflects', u'reflex', u'reflexes', u'reflexion', u'reflexive', u'reflexivity', u'reflux', u'refocused', u'reforging', u'reform', u'reformatory', u'reformatted', u'reformed', u'reformer', u'reforming', u'reforms', u'refracted', u'refrain', u'refrained', u'refraining', u'refrains', u'refresh', u'refreshed', u'refreshes', u'refreshing', u'refreshingly', u'refreshment', u'refreshments', u'refrigerator', u'refrigerators', u'refs', u'refuge', u'refugee', u'refugees', u'refuges', u'refund', u'refusal', u'refusals', u'refuse', u'refused', u'refuses', u'refusing', u'refute', u'refutes', u'reg', u'regain', u'regained', u'regaining', u'regains', u'regal', u'regalbuto', u'regales', u'regality', u'regan', u'regard', u'regarded', u'regarding', u'regardless', u'regards', u'regatta', u'regency', u'regenerate', u'regenerating', u'regeneration', u'regenerative', u'regent', u'regents', u'reggae', u'reggie', u'regime', u'regimens', u'regiment', u'regimental', u'regiments', u'regimes', u'regina', u'reginal', u'reginald', u'region', u'regional', u'regions', u'regis', u'register', u'registered', u'registering', u'registers', u'registrar', u'registration', u'registry', u'regress', u'regresses', u'regression', u'regressive', u'regret', u'regretful', u'regretfully', u'regrets', u'regrettable', u'regrettably', u'regretted', u'regretting', u'regroup', u'regrouping', u'reguards', u'regular', u'regularity', u'regularly', u'regulars', u'regulated', u'regulation', u'regulations', u'regurgitate', u'regurgitated', u'reh', u'rehab', u'rehabbed', u'rehabilitates', u'rehabilitation', u'rehan', u'rehash', u'rehashed', u'rehashes', u'rehashing', u'rehearing', u'rehearsal', u'rehearsals', u'rehearse', u'rehearsed', u'rehearses', u'rehearsing', u'reheated', u'rehibilitation', u'rehman', u'rehumanization', u'rei', u'reich', u'reichdeutch', u'reicher', u'reichstag', u'reichter', u'reid', u'reidelsheimer', u'reifenstal', u'reified', u'reigen', u'reign', u'reigne', u'reigned', u'reigning', u'reignite', u'reignites', u'reigns', u'reiju', u'reiko', u'reily', u'reimann', u'reimburse', u'reimbursed', u'rein', u'reinas', u'reincarnate', u'reincarnated', u'reincarnation', u'reincarnations', u'reindeer', u'reine', u'reiner', u'reinforce', u'reinforced', u'reinforcement', u'reinforcements', u'reinforces', u'reinforcing', u'reinhold', u'reinking', u'reins', u'reinstall', u'reinstate', u'reinstated', u'reintegrate', u'reintegrating', u'reintegration', u'reinterpret', u'reinterpretation', u'reinterpretations', u'reintroduced', u'reintroduces', u'reintroducing', u'reinvent', u'reinvented', u'reinventing', u'reinvention', u'reinvents', u'reinvigorated', u'reiser', u'reisert', u'reisman', u'reissue', u'reissued', u'reissuer', u'reissues', u'reissuing', u'reiterate', u'reiterated', u'reiterating', u'reitman', u'reject', u'rejectable', u'rejected', u'rejecting', u'rejection', u'rejections', u'rejects', u'rejoice', u'rejoiced', u'rejoicing', u'rejoin', u'rejoinder', u'rejoined', u'rejuvenate', u'rejuvenated', u'rejuvenates', u'rejuvenating', u'rejuvenation', u'rejuvinated', u'rekay', u'rekindle', u'rekindles', u'rekindling', u'rekka', u'relapses', u'relapsing', u'relatable', u'relate', u'related', u'relates', u'relating', u'relation', u'relations', u'relationship', u'relationships', u'relationshipthe', u'relationsip', u'relative', u'relatively', u'relatives', u'relativity', u'relativized', u'relatonship', u'relax', u'relaxation', u'relaxed', u'relaxes', u'relaxing', u'relay', u'relayed', u'relays', u'release', u'released', u'releases', u'releasing', u'relecting', u'relegate', u'relegated', u'relena', u'relentless', u'relentlessly', u'relentlessy', u'relents', u'relevance', u'relevant', u'relevantly', u'relevation', u'relevent', u'reliability', u'reliable', u'reliably', u'reliance', u'reliant', u'relic', u'relics', u'relied', u'relief', u'reliefs', u'relies', u'relieve', u'relieved', u'reliever', u'relieves', u'relieving', u'religion', u'religions', u'religiosity', u'religious', u'religiously', u'religous', u'relinquishes', u'relinquishing', u'relish', u'relished', u'relishes', u'relishing', u'relive', u'relived', u'relives', u'reliving', u'reload', u'reloaded', u'relocate', u'relocated', u'relocates', u'relocating', u'relocation', u'reluctance', u'reluctant', u'reluctantly', u'rely', u'relying', u'remade', u'remain', u'remainder', u'remaindered', u'remained', u'remaining', u'remains', u'remake', u'remakes', u'remaking', u'remand', u'remar', u'remarcable', u'remark', u'remarkable', u'remarkably', u'remarked', u'remarking', u'remarks', u'remarquable', u'remarque', u'remarried', u'remarry', u'remarrying', u'remaster', u'remastered', u'remastering', u'rematch', u'rembrandt', u'remedial', u'remedied', u'remedies', u'remedios', u'remedy', u'remember', u'remembered', u'rememberif', u'remembering', u'remembers', u'remembrance', u'rememeber', u'remer', u'remi', u'remind', u'reminded', u'reminder', u'reminders', u'reminding', u'reminds', u'remington', u'reminiscant', u'reminisce', u'reminisced', u'reminiscence', u'reminiscences', u'reminiscent', u'reminisces', u'reminiscing', u'remiss', u'remission', u'remit', u'remix', u'remmeber', u'remmi', u'remnant', u'remnants', u'remo', u'remorse', u'remorseful', u'remorseless', u'remorselessness', u'remote', u'remotely', u'remoteness', u'remotes', u'removal', u'remove', u'removed', u'removes', u'removing', u'remsen', u'remus', u'remy', u'ren', u'renaissance', u'renamed', u'renaming', u'renard', u'renascence', u'renassaince', u'renata', u'renault', u'rendall', u'render', u'rendered', u'rendering', u'renderings', u'renders', u'rendez', u'rendezvous', u'rending', u'rendition', u'renditions', u'rene', u'renee', u'renegade', u'renew', u'renewal', u'renewed', u'renews', u'renfield', u'renn', u'rennaissance', u'rennie', u'rennt', u'renny', u'reno', u'renoir', u'renounce', u'renounced', u'renovate', u'renovated', u'renovating', u'renovation', u'renovations', u'renown', u'renowned', u'rent', u'rental', u'rentals', u'rentar', u'rented', u'renter', u'renting', u'rents', u'renu', u'renuka', u'renying', u'renyolds', u'reoccurred', u'reoccurring', u'reommended', u'reona', u'reopen', u'reopened', u'reopening', u'reopens', u'reorder', u'rep', u'repackage', u'repackaging', u'repaid', u'repainted', u'repair', u'repaired', u'repairing', u'repairman', u'repairmen', u'repairs', u'repartee', u'repartees', u'repast', u'repay', u'repayed', u'repays', u'repeat', u'repeated', u'repeatedly', u'repeating', u'repeats', u'repel', u'repelled', u'repellent', u'repellently', u'repelling', u'repels', u'repent', u'repentance', u'repentant', u'repenting', u'repents', u'repercussion', u'repercussions', u'repertoire', u'repertoireoppressive', u'repertory', u'repetitevness', u'repetition', u'repetitions', u'repetitious', u'repetitive', u'replacated', u'replace', u'replaced', u'replacement', u'replacements', u'replaces', u'replacing', u'replay', u'replayable', u'replaydvd', u'replayed', u'replaying', u'replays', u'replenish', u'replenished', u'replete', u'replica', u'replicant', u'replicas', u'replicate', u'replicated', u'replicates', u'replicating', u'replication', u'replicator', u'replicators', u'replied', u'replies', u'reply', u'replying', u'repo', u'repoire', u'repopulate', u'report', u'reportage', u'reportary', u'reported', u'reportedly', u'reportedy', u'reporter', u'reporters', u'reporting', u'reports', u'repose', u'reposed', u'repository', u'repossessed', u'reprehensible', u'represenative', u'represent', u'representation', u'representations', u'representative', u'representatives', u'represented', u'representin', u'representing', u'represents', u'repress', u'repressed', u'represses', u'repressing', u'repression', u'repressions', u'repressive', u'reprieve', u'reprieves', u'reprimanded', u'reprimands', u'reprinted', u'reprints', u'reprisals', u'reprise', u'reprised', u'reprises', u'reprising', u'reproach', u'reproaches', u'reproduce', u'reproduced', u'reproduces', u'reproducing', u'reproduction', u'reproductive', u'reptile', u'reptiles', u'reptilian', u'repubhlic', u'republic', u'republica', u'republican', u'republicans', u'repudiate', u'repudiated', u'repudiation', u'repugnant', u'repulse', u'repulsed', u'repulsing', u'repulsion', u'repulsive', u'repulsively', u'repulsiveness', u'reputable', u'reputation', u'reputations', u'repute', u'reputed', u'reputedly', u'request', u'requested', u'requesting', u'requests', u'requiem', u'require', u'required', u'requirement', u'requirements', u'requires', u'requiresa', u'requiring', u'requisite', u'reread', u'rerecorded', u'rereleased', u'rerun', u'rerunning', u'reruns', u'res', u'reschedule', u'rescinded', u'rescore', u'rescue', u'rescued', u'rescueman', u'rescuer', u'rescuers', u'rescues', u'rescuing', u'research', u'researched', u'researcher', u'researches', u'researching', u'resemblance', u'resemblances', u'resemble', u'resembled', u'resemblence', u'resembles', u'resembling', u'resent', u'resented', u'resentful', u'resentment', u'resentments', u'resents', u'reservation', u'reservations', u'reserve', u'reserved', u'reservedly', u'reserves', u'reserving', u'reservoir', u'reset', u'resets', u'resetting', u'reshammiya', u'reshaped', u'reshmmiya', u'reshoots', u'reshoskys', u'reshovsky', u'reshuffle', u'resi', u'reside', u'residence', u'residency', u'resident', u'residenthazard', u'residents', u'resides', u'residing', u'residual', u'residue', u'resign', u'resignation', u'resigned', u'resigning', u'resilience', u'resilient', u'resist', u'resistance', u'resistant', u'resisted', u'resister', u'resistible', u'resisting', u'resistor', u'resists', u'resituation', u'resnais', u'resold', u'resoloution', u'resolute', u'resolutely', u'resolution', u'resolutions', u'resolutive', u'resolve', u'resolved', u'resolves', u'resolving', u'resonance', u'resonant', u'resonate', u'resonated', u'resonates', u'resonating', u'resort', u'resorted', u'resorting', u'resorts', u'resounding', u'resoundingly', u'resoundness', u'resource', u'resourceful', u'resourcefulness', u'resources', u'respect', u'respectability', u'respectable', u'respectably', u'respected', u'respectful', u'respectfully', u'respectfulness', u'respecting', u'respective', u'respectively', u'respects', u'respiration', u'respiratory', u'respite', u'resplendent', u'respond', u'responded', u'respondents', u'responders', u'responding', u'responds', u'responisible', u'response', u'responses', u'responsibilities', u'responsibility', u'responsible', u'responsive', u'retractable', u'retread', u'retreads', u'retreat', u'retreating', u'retreats', u'retribution', u'retrieval', u'retrieve', u'retrieved', u'retriever', u'retrieves', u'retrieving', u'retro', u'retrograde', u'retromedia', u'retrospect', u'retrospective', u'retrospectively', u'retrospectives', u'retrouv', u'retsuden', u'rettig', u'return', u'returned', u'returning', u'returns', u'reuben', u'reubens', u'reunification', u'reunifying', u'reunion', u'reunions', u'reunite', u'reunited', u'reunites', u'reuniting', u'reunuin', u'reuse', u'reused', u'rev', u'revamped', u'revamps', u'reve', u'reveal', u'revealed', u'revealing', u'revealingly', u'revealled', u'reveals', u'reveille', u'revel', u'revelation', u'reversals', u'revision', u'revisionism', u'revisionist', u'revisions', u'revisit', u'revisitation', u'revisited', u'revisiting', u'revisits', u'revitalize', u'revitalized', u'revival', u'revivalist', u'revive', u'revived', u'revives', u'reviving', u'revoew', u'revoked', u'revolt', u'revolta', u'revolted', u'revolting', u'revolucion', u'revolution', u'revolutionaries', u'revolutionary', u'revolutionise', u'revolutionised', u'revolutionist', u'revolutionists', u'revolutionize', u'revolutionized', u'revolutions', u'revolve', u'revolved', u'revolver', u'revolvers', u'revolves', u'revolving', u'revs', u'revue', u'revues', u'revulsion', u'reward', u'rewarded', u'rewarding', u'rewards', u'rewatch', u'rewatched', u'rewatching', u'rewind', u'rewinding', u'rewinds', u'rewording', u'reworked', u'reworking', u'reworkings', u'reworks', u'rewound', u'rewrite', u'rewrites', u'rewriting', u'rewritten', u'rewrote', u'rex', u'rexas', u'rextasy', u'rey', u'reymond', u'reynaud', u'reynold', u'reynolds', u'rf', u'rfd', u'rfk', u'rgb', u'rgis', u'rgv', u'rhames', u'rhapsodies', u'rhapsody', u'rhea', u'rhein', u'rheostatics', u'rhet', u'rhetoric', u'rhetorical', u'rhetorically', u'rhetorician', u'rhetoromance', u'rhett', u'rheubottom', u'rheumy', u'rheyes', u'rhidian', u'rhind', u'rhine', u'rhinestones', u'rhinier', u'rhino', u'rhinos', u'rho', u'rhoda', u'rhode', u'rhodes', u'rhonda', u'rhyes', u'rhyme', u'rhymed', u'rhymes', u'rhyming', u'rhys', u'rhythm', u'rhythmic', u'rhythmically', u'rhythms', u'rhytmic', u'ri', u'ria', u'riah', u'rialto', u'rib', u'riba', u'ribald', u'ribaldry', u'ribbed', u'ribbing', u'ribbon', u'ribbons', u'ribeiro', u'ribisi', u'ribs', u'ribsi', u'ric', u'rican', u'ricans', u'ricardo', u'ricca', u'riccardo', u'ricchi', u'ricci', u'rice', u'rich', u'richandson', u'richar', u'richard', u'richards', u'richardson', u'richart', u'richer', u'riches', u'richest', u'richly', u'richman', u'richmond', u'richmont', u'richness', u'richter', u'rick', u'rickaby', u'rickety', u'ricki', u'rickie', u'rickles', u'rickmansworth', u'rickshaws', u'ricky', u'rico', u'ricochet', u'rid', u'ridb', u'ridden', u'riddle', u'riddled', u'riddler', u'riddles', u'ride', u'rideau', u'rideheight', u'rider', u'riders', u'rides', u'ridge', u'ridgeley', u'ridgely', u'ridgement', u'ridgemont', u'ridgway', u'ridicule', u'ridiculed', u'ridicules', u'ridiculing', u'ridiculous', u'ridiculously', u'ridiculousness', u'riding', u'ridley', u'rieckhoff', u'riedelsheimer', u'riefenstahl', u'riefenstall', u'riemann', u'rien', u'rieser', u'rietman', u'rife', u'riff', u'riffen', u'riffing', u'riffling', u'riffraff', u'riffraffs', u'riffs', u'rifle', u'rifleman', u'rifles', u'riflescope', u'rift', u'rifted', u'rig', u'riga', u'rigby', u'riger', u'riget', u'rigets', u'rigeur', u'rigg', u'rigged', u'rigging', u'riggs', u'right', u'righted', u'righteous', u'righteously', u'righteousness', u'rightful', u'rightfully', u'righting', u'rightist', u'rightly', u'rightness', u'rights', u'rightwing', u'rigid', u'rigidity', u'rigoletto', u'rigoli', u'rigorous', u'rigorously', u'rigors', u'rigs', u'rigshospitalet', u'rigueur', u'rihanna', u'riiiiiike', u'riker', u'riksihi', u'ril', u'riled', u'riles', u'riley', u'rima', u'rime', u'rimi', u'rimmed', u'rin', u'rinaldi', u'rinaldo', u'rinatro', u'rincon', u'ring', u'ringer', u'ringers', u'ringing', u'ringleader', u'ringleaders', u'ringmaster', u'ringo', u'rings', u'ringside', u'ringu', u'ringwald', u'ringwraith', u'ringwraiths', u'rink', u'rinna', u'rinsing', u'rintaro', u'rio', u'riordan', u'rios', u'riot', u'rioted', u'rioters', u'rioting', u'riotous', u'riotously', u'riots', u'rip', u'ripa', u'ripe', u'riped', u'ripened', u'ripley', u'ripner', u'ripoff', u'ripoffs', u'riposte', u'rippa', u'ripped', u'ripper', u'ripping', u'ripple', u'ripples', u'rippling', u'rippner', u'rips', u'ripsnorting', u'ripstein', u'riscorla', u'risdon', u'rise', u'risen', u'rises', u'rishtaa', u'risible', u'rising', u'risk', u'risked', u'riskiest', u'risking', u'risks', u'risky', u'rispoli', u'risqu', u'risque', u'rissole', u'rita', u'ritalin', u'ritchie', u'rite', u'rites', u'ritika', u'ritt', u'ritter', u'ritters', u'ritu', u'ritual', u'ritualistic', u'ritualistically', u'ritualized', u'rituals', u'ritzy', u'riva', u'rival', u'rivaled', u'rivaling', u'rivalled', u'rivalling', u'rivalries', u'rivalry', u'rivals', u'rivalskeaton', u'rivault', u'rivendell', u'river', u'rivera', u'riverboat', u'riverdance', u'rivero', u'rivers', u'riverside', u'rivet', u'riveted', u'riveting', u'rivets', u'rivette', u'riviera', u'riviere', u'rivire', u'riviting', u'riz', u'rizwan', u'rizzo', u'rj', u'rko', u'rks', u'rl', u'rm', u'rml', u'rms', u'rnarna', u'rnrhs', u'ro', u'roa', u'roach', u'roaches', u'road', u'roadblock', u'roadhouse', u'roadhouses', u'roadie', u'roadies', u'roadkill', u'roadmovies', u'roads', u'roadside', u'roadster', u'roadwarrior', u'roadway', u'roam', u'roamed', u'roamer', u'roaming', u'roams', u'roan', u'roar', u'roared', u'roaring', u'roars', u'roast', u'roasted', u'roasting', u'rob', u'robald', u'robards', u'robbed', u'robben', u'robber']\n"
     ]
    }
   ],
   "source": [
    "vocab = vectorizer.get_feature_names()\n",
    "print vocab"
   ]
  },
  {
   "cell_type": "code",
   "execution_count": null,
   "metadata": {
    "collapsed": true
   },
   "outputs": [],
   "source": []
  }
 ],
 "metadata": {
  "anaconda-cloud": {},
  "kernelspec": {
   "display_name": "Python 2",
   "language": "python",
   "name": "python2"
  },
  "language_info": {
   "codemirror_mode": {
    "name": "ipython",
    "version": 2
   },
   "file_extension": ".py",
   "mimetype": "text/x-python",
   "name": "python",
   "nbconvert_exporter": "python",
   "pygments_lexer": "ipython2",
   "version": "2.7.13"
  }
 },
 "nbformat": 4,
 "nbformat_minor": 1
}
